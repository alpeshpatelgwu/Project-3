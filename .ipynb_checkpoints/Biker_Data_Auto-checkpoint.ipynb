{
 "cells": [
  {
   "cell_type": "code",
   "execution_count": 59,
   "metadata": {},
   "outputs": [],
   "source": [
    "# This notebook runs separate from the master notebook to be able to generate a data set out of the \n",
    "# Bikeshare API which has data different from the historical bikeshare data\n",
    "# The realtime information provides data on the status of the bike stations\n",
    "# This can then be aggregated to look at the history of bike stations and gain insights\n",
    "import json\n",
    "import pandas as pd\n",
    "import datetime\n",
    "from pprint import pprint\n",
    "import requests\n",
    "import time"
   ]
  },
  {
   "cell_type": "code",
   "execution_count": 60,
   "metadata": {},
   "outputs": [],
   "source": [
    "#Prepare to load Data Frames with SQLAlchemy\n",
    "from sqlalchemy import create_engine\n",
    "import pymysql\n",
    "pymysql.install_as_MySQLdb()\n",
    "\n",
    "#from config import remote_db_endpoint, remote_db_port\n",
    "#from config import remote_gwsis_dbname, remote_gwsis_dbuser, remote_gwsis_dbpwd\n",
    "\n",
    "# AWS Database Info - Put in Config file!\n",
    "remote_db_endpoint = 'gwcodingbootcamp.cr0gccbv4ylw.us-east-2.rds.amazonaws.com'\n",
    "remote_db_port = '3306'\n",
    "remote_gwsis_dbname = 'bikeshare_db'\n",
    "remote_gwsis_dbuser = 'root'\n",
    "# ADD PASSWORD HERE FOR AWS DATABASE - i know i shouldn't put it, \n",
    "#but couldn't get separate users to work\n",
    "remote_gwsis_dbpwd = 'braddocks'"
   ]
  },
  {
   "cell_type": "code",
   "execution_count": 61,
   "metadata": {},
   "outputs": [],
   "source": [
    "# AWS Database Connection\n",
    "engine = create_engine(f\"mysql://{remote_gwsis_dbuser}:{remote_gwsis_dbpwd}@{remote_db_endpoint}:{remote_db_port}/{remote_gwsis_dbname}\")\n",
    "# Create a remote database engine connection\n",
    "conn = engine.connect()"
   ]
  },
  {
   "cell_type": "code",
   "execution_count": 62,
   "metadata": {},
   "outputs": [],
   "source": [
    "#Create a series of lists to populate from the BikeShare API\n",
    "obj_id = []\n",
    "term_id = []\n",
    "address = []\n",
    "term_num = []\n",
    "lat = []\n",
    "lng = []\n",
    "installed = []\n",
    "locked = []\n",
    "install_date = []\n",
    "removal_date = []\n",
    "temp_install = []\n",
    "num_bikes = []\n",
    "num_empty_docks = []\n",
    "\n",
    "time_stamp = []\n",
    "\n",
    "biker_data = {\"time\":time_stamp,\"term_id\": term_id, \"address\": address, \"lat\": lat, \"long\": lng, \"num_bikes\":num_bikes,\n",
    "                  \"num_empty_docks\":num_empty_docks, \"obj_id\":obj_id,\"term_num\":term_num,\"installed\":installed, \n",
    "                  \"locked\":locked,\"install_date\":install_date,\"removal_date\":removal_date,\"temp_install\":temp_install}\n",
    "\n",
    "\n",
    "biker_data = pd.DataFrame(biker_data)\n",
    "\n",
    "with open('bike_data.csv', 'w') as f:\n",
    "    biker_data.to_csv(f, header=True,index=False)"
   ]
  },
  {
   "cell_type": "code",
   "execution_count": 63,
   "metadata": {},
   "outputs": [],
   "source": [
    "#This function makes a call to the bikeshare API and saves the desired data fields to the previously created lists\n",
    "#The lists are then made into a data frame that is appended to a .csv without the headers\n",
    "#This was done as a function so the .csv could capture continuously streaming data to make a historical data set\n",
    "def BikerData():\n",
    "\n",
    "    url = \"https://maps2.dcgis.dc.gov/dcgis/rest/services/DCGIS_DATA/Transportation_WebMercator/MapServer/5/query?where=1%3D1&outFields=*&outSR=4326&f=json\"\n",
    "\n",
    "    response = requests.get(url)\n",
    "    data = response.json()\n",
    " \n",
    "    now = datetime.datetime.now()\n",
    "    time = pd.Timestamp(now.year,now.month,now.day,now.hour,now.minute)\n",
    "    for index,item in enumerate(data[\"features\"]):\n",
    "        address.append(data[\"features\"][index][\"attributes\"][\"ADDRESS\"])\n",
    "        term_id.append(data[\"features\"][index][\"attributes\"][\"ID\"])\n",
    "        lat.append(data[\"features\"][index][\"attributes\"][\"LATITUDE\"])\n",
    "        lng.append(data[\"features\"][index][\"attributes\"][\"LONGITUDE\"])\n",
    "        num_bikes.append(data[\"features\"][index][\"attributes\"][\"NUMBER_OF_BIKES\"])\n",
    "        num_empty_docks.append(data[\"features\"][index][\"attributes\"][\"NUMBER_OF_EMPTY_DOCKS\"])\n",
    "        obj_id.append(data[\"features\"][index][\"attributes\"][\"OBJECTID\"])\n",
    "        term_num.append(data[\"features\"][index][\"attributes\"][\"TERMINAL_NUMBER\"])\n",
    "        installed.append(data[\"features\"][index][\"attributes\"][\"INSTALLED\"])\n",
    "        locked.append(data[\"features\"][index][\"attributes\"][\"LOCKED\"])\n",
    "        install_date.append(data[\"features\"][index][\"attributes\"][\"INSTALL_DATE\"])\n",
    "        removal_date.append(data[\"features\"][index][\"attributes\"][\"REMOVAL_DATE\"])\n",
    "        temp_install.append(data[\"features\"][index][\"attributes\"][\"TEMPORARY_INSTALL\"])\n",
    "        time_stamp.append(time)\n",
    "\n",
    "    biker_data = {\"time\":time_stamp,\"term_id\": term_id, \"address\": address, \"lat\": lat, \"long\": lng, \"num_bikes\":num_bikes,\n",
    "                  \"num_empty_docks\":num_empty_docks, \"obj_id\":obj_id,\"term_num\":term_num,\"installed\":installed, \n",
    "                  \"locked\":locked,\"install_date\":install_date,\"removal_date\":removal_date,\"temp_install\":temp_install}\n",
    "\n",
    "    biker_data = pd.DataFrame(biker_data)\n",
    "    biker_data.to_sql(name='bikeshare', if_exists='append', con=conn, index=False)\n",
    "    with open('bike_data.csv', 'a') as f:\n",
    "        biker_data.to_csv(f, header=False,index=False)\n"
   ]
  },
  {
   "cell_type": "code",
   "execution_count": 64,
   "metadata": {},
   "outputs": [],
   "source": [
    "# This code creates a function that will continuously make the API call at a given interval\n",
    "def periodic_work(interval):\n",
    "    while True:\n",
    "        #change this to the function you want to call, or paste in the code you want to run\n",
    "        BikerData()\n",
    "        #interval should be an integer, the number of seconds to wait\n",
    "        time.sleep(interval)"
   ]
  },
  {
   "cell_type": "code",
   "execution_count": 65,
   "metadata": {},
   "outputs": [
    {
     "ename": "TypeError",
     "evalue": "list indices must be integers or slices, not tuple",
     "output_type": "error",
     "traceback": [
      "\u001b[0;31m---------------------------------------------------------------------------\u001b[0m",
      "\u001b[0;31mTypeError\u001b[0m                                 Traceback (most recent call last)",
      "\u001b[0;32m<ipython-input-65-9a35cff61d67>\u001b[0m in \u001b[0;36m<module>\u001b[0;34m\u001b[0m\n\u001b[1;32m      1\u001b[0m \u001b[0;31m# Make the API call every 3 minutes (180 seconds)\u001b[0m\u001b[0;34m\u001b[0m\u001b[0;34m\u001b[0m\u001b[0;34m\u001b[0m\u001b[0m\n\u001b[0;32m----> 2\u001b[0;31m \u001b[0mperiodic_work\u001b[0m\u001b[0;34m(\u001b[0m\u001b[0;36m180\u001b[0m\u001b[0;34m)\u001b[0m\u001b[0;34m\u001b[0m\u001b[0;34m\u001b[0m\u001b[0m\n\u001b[0m",
      "\u001b[0;32m<ipython-input-64-a5792de1f7ce>\u001b[0m in \u001b[0;36mperiodic_work\u001b[0;34m(interval)\u001b[0m\n\u001b[1;32m      3\u001b[0m     \u001b[0;32mwhile\u001b[0m \u001b[0;32mTrue\u001b[0m\u001b[0;34m:\u001b[0m\u001b[0;34m\u001b[0m\u001b[0;34m\u001b[0m\u001b[0m\n\u001b[1;32m      4\u001b[0m         \u001b[0;31m#change this to the function you want to call, or paste in the code you want to run\u001b[0m\u001b[0;34m\u001b[0m\u001b[0;34m\u001b[0m\u001b[0;34m\u001b[0m\u001b[0m\n\u001b[0;32m----> 5\u001b[0;31m         \u001b[0mBikerData\u001b[0m\u001b[0;34m(\u001b[0m\u001b[0;34m)\u001b[0m\u001b[0;34m\u001b[0m\u001b[0;34m\u001b[0m\u001b[0m\n\u001b[0m\u001b[1;32m      6\u001b[0m         \u001b[0;31m#interval should be an integer, the number of seconds to wait\u001b[0m\u001b[0;34m\u001b[0m\u001b[0;34m\u001b[0m\u001b[0;34m\u001b[0m\u001b[0m\n\u001b[1;32m      7\u001b[0m         \u001b[0mtime\u001b[0m\u001b[0;34m.\u001b[0m\u001b[0msleep\u001b[0m\u001b[0;34m(\u001b[0m\u001b[0minterval\u001b[0m\u001b[0;34m)\u001b[0m\u001b[0;34m\u001b[0m\u001b[0;34m\u001b[0m\u001b[0m\n",
      "\u001b[0;32m<ipython-input-63-a21919aad28c>\u001b[0m in \u001b[0;36mBikerData\u001b[0;34m()\u001b[0m\n\u001b[1;32m     12\u001b[0m     \u001b[0mtime\u001b[0m \u001b[0;34m=\u001b[0m \u001b[0mpd\u001b[0m\u001b[0;34m.\u001b[0m\u001b[0mTimestamp\u001b[0m\u001b[0;34m(\u001b[0m\u001b[0mnow\u001b[0m\u001b[0;34m.\u001b[0m\u001b[0myear\u001b[0m\u001b[0;34m,\u001b[0m\u001b[0mnow\u001b[0m\u001b[0;34m.\u001b[0m\u001b[0mmonth\u001b[0m\u001b[0;34m,\u001b[0m\u001b[0mnow\u001b[0m\u001b[0;34m.\u001b[0m\u001b[0mday\u001b[0m\u001b[0;34m,\u001b[0m\u001b[0mnow\u001b[0m\u001b[0;34m.\u001b[0m\u001b[0mhour\u001b[0m\u001b[0;34m,\u001b[0m\u001b[0mnow\u001b[0m\u001b[0;34m.\u001b[0m\u001b[0mminute\u001b[0m\u001b[0;34m)\u001b[0m\u001b[0;34m\u001b[0m\u001b[0;34m\u001b[0m\u001b[0m\n\u001b[1;32m     13\u001b[0m     \u001b[0;32mfor\u001b[0m \u001b[0mindex\u001b[0m \u001b[0;32min\u001b[0m \u001b[0menumerate\u001b[0m\u001b[0;34m(\u001b[0m\u001b[0mdata\u001b[0m\u001b[0;34m[\u001b[0m\u001b[0;34m\"features\"\u001b[0m\u001b[0;34m]\u001b[0m\u001b[0;34m)\u001b[0m\u001b[0;34m:\u001b[0m\u001b[0;34m\u001b[0m\u001b[0;34m\u001b[0m\u001b[0m\n\u001b[0;32m---> 14\u001b[0;31m         \u001b[0maddress\u001b[0m\u001b[0;34m.\u001b[0m\u001b[0mappend\u001b[0m\u001b[0;34m(\u001b[0m\u001b[0mdata\u001b[0m\u001b[0;34m[\u001b[0m\u001b[0;34m\"features\"\u001b[0m\u001b[0;34m]\u001b[0m\u001b[0;34m[\u001b[0m\u001b[0mindex\u001b[0m\u001b[0;34m]\u001b[0m\u001b[0;34m[\u001b[0m\u001b[0;34m\"attributes\"\u001b[0m\u001b[0;34m]\u001b[0m\u001b[0;34m[\u001b[0m\u001b[0;34m\"ADDRESS\"\u001b[0m\u001b[0;34m]\u001b[0m\u001b[0;34m)\u001b[0m\u001b[0;34m\u001b[0m\u001b[0;34m\u001b[0m\u001b[0m\n\u001b[0m\u001b[1;32m     15\u001b[0m         \u001b[0mterm_id\u001b[0m\u001b[0;34m.\u001b[0m\u001b[0mappend\u001b[0m\u001b[0;34m(\u001b[0m\u001b[0mdata\u001b[0m\u001b[0;34m[\u001b[0m\u001b[0;34m\"features\"\u001b[0m\u001b[0;34m]\u001b[0m\u001b[0;34m[\u001b[0m\u001b[0mindex\u001b[0m\u001b[0;34m]\u001b[0m\u001b[0;34m[\u001b[0m\u001b[0;34m\"attributes\"\u001b[0m\u001b[0;34m]\u001b[0m\u001b[0;34m[\u001b[0m\u001b[0;34m\"ID\"\u001b[0m\u001b[0;34m]\u001b[0m\u001b[0;34m)\u001b[0m\u001b[0;34m\u001b[0m\u001b[0;34m\u001b[0m\u001b[0m\n\u001b[1;32m     16\u001b[0m         \u001b[0mlat\u001b[0m\u001b[0;34m.\u001b[0m\u001b[0mappend\u001b[0m\u001b[0;34m(\u001b[0m\u001b[0mdata\u001b[0m\u001b[0;34m[\u001b[0m\u001b[0;34m\"features\"\u001b[0m\u001b[0;34m]\u001b[0m\u001b[0;34m[\u001b[0m\u001b[0mindex\u001b[0m\u001b[0;34m]\u001b[0m\u001b[0;34m[\u001b[0m\u001b[0;34m\"attributes\"\u001b[0m\u001b[0;34m]\u001b[0m\u001b[0;34m[\u001b[0m\u001b[0;34m\"LATITUDE\"\u001b[0m\u001b[0;34m]\u001b[0m\u001b[0;34m)\u001b[0m\u001b[0;34m\u001b[0m\u001b[0;34m\u001b[0m\u001b[0m\n",
      "\u001b[0;31mTypeError\u001b[0m: list indices must be integers or slices, not tuple"
     ]
    }
   ],
   "source": [
    "# Make the API call every 3 minutes (180 seconds)\n",
    "periodic_work(180)"
   ]
  },
  {
   "cell_type": "code",
   "execution_count": null,
   "metadata": {},
   "outputs": [],
   "source": []
  }
 ],
 "metadata": {
  "kernelspec": {
   "display_name": "Python 3",
   "language": "python",
   "name": "python3"
  },
  "language_info": {
   "codemirror_mode": {
    "name": "ipython",
    "version": 3
   },
   "file_extension": ".py",
   "mimetype": "text/x-python",
   "name": "python",
   "nbconvert_exporter": "python",
   "pygments_lexer": "ipython3",
   "version": "3.6.8"
  }
 },
 "nbformat": 4,
 "nbformat_minor": 2
}
